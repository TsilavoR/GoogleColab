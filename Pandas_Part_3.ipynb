{
  "nbformat": 4,
  "nbformat_minor": 0,
  "metadata": {
    "colab": {
      "name": "Pandas - Part 3.ipynb",
      "provenance": [],
      "collapsed_sections": [],
      "include_colab_link": true
    },
    "kernelspec": {
      "name": "python3",
      "display_name": "Python 3"
    }
  },
  "cells": [
    {
      "cell_type": "markdown",
      "metadata": {
        "id": "view-in-github",
        "colab_type": "text"
      },
      "source": [
        "<a href=\"https://colab.research.google.com/github/TsilavoR/GoogleColab/blob/main/Pandas_Part_3.ipynb\" target=\"_parent\"><img src=\"https://colab.research.google.com/assets/colab-badge.svg\" alt=\"Open In Colab\"/></a>"
      ]
    },
    {
      "cell_type": "markdown",
      "metadata": {
        "id": "vPeraeSVmy3l"
      },
      "source": [
        "# Mission 1\n",
        "\n",
        "Display the first 10 rows of the following file: http://bit.ly/imdbratings"
      ]
    },
    {
      "cell_type": "code",
      "metadata": {
        "id": "hYiMPyQjnDiX"
      },
      "source": [
        "imd_ratings = pd.read_csv(\"http://bit.ly/imdbratings\", sep = \",\")\n",
        "imd_ratings"
      ],
      "execution_count": null,
      "outputs": []
    },
    {
      "cell_type": "markdown",
      "metadata": {
        "id": "us6hXm12WsZR"
      },
      "source": [
        "# Mission 2\n",
        "\n",
        "Sort your dataframe in ascending order according to the star_rating column.\n",
        "[This resource could be useful](https://pandas.pydata.org/pandas-docs/stable/reference/api/pandas.DataFrame.sort_values.html)"
      ]
    },
    {
      "cell_type": "code",
      "metadata": {
        "id": "zC9bfLr4Wy_z"
      },
      "source": [
        ""
      ],
      "execution_count": null,
      "outputs": []
    },
    {
      "cell_type": "markdown",
      "metadata": {
        "id": "7ceP79fzWzPs"
      },
      "source": [
        "# Mission 3\n",
        "\n",
        "Answer the question below:\n",
        "- What is the median star rating? [This ressource could be useful](https://pandas.pydata.org/pandas-docs/stable/reference/api/pandas.DataFrame.median.html)\n",
        "- What is the genre of the most highly rated film? [This ressource could be useful](https://pandas.pydata.org/pandas-docs/stable/reference/api/pandas.DataFrame.max.html)\n",
        "- How many (in percentage) of films belong to each genre? [This ressource could be useful](https://pandas.pydata.org/pandas-docs/stable/reference/api/pandas.Series.value_counts.html)"
      ]
    },
    {
      "cell_type": "code",
      "metadata": {
        "id": "c4fgYcPZav2H"
      },
      "source": [
        ""
      ],
      "execution_count": null,
      "outputs": []
    },
    {
      "cell_type": "markdown",
      "metadata": {
        "id": "ohjcBsQlcVC4"
      },
      "source": [
        "# Mission 4\n",
        "\n",
        "Display only the rows with films that belong to the lowest rated genre (based on the average rating of the films in this genre)\n",
        "[This resource could be useful](https://pandas.pydata.org/pandas-docs/stable/reference/api/pandas.core.groupby.GroupBy.mean.html)"
      ]
    },
    {
      "cell_type": "code",
      "metadata": {
        "id": "wY3aU0MCcsMU"
      },
      "source": [
        ""
      ],
      "execution_count": null,
      "outputs": []
    },
    {
      "cell_type": "markdown",
      "metadata": {
        "id": "Fyt7ErXTcsnJ"
      },
      "source": [
        "# Mission 5\n",
        "\n",
        "Display films which are longer than 200 minutes **and** which belong to a genre with a name containing the letter 'h' (either lower case or upper case)\n"
      ]
    },
    {
      "cell_type": "code",
      "metadata": {
        "id": "I5MAw7jldSG4"
      },
      "source": [
        ""
      ],
      "execution_count": null,
      "outputs": []
    },
    {
      "cell_type": "markdown",
      "metadata": {
        "id": "vll078gLzrlg"
      },
      "source": [
        "# Mission 6\n",
        "\n",
        "Which **actor trio** is mentioned most often in the entire dataframe?"
      ]
    },
    {
      "cell_type": "code",
      "metadata": {
        "id": "F5whruHZ0MT6"
      },
      "source": [
        ""
      ],
      "execution_count": null,
      "outputs": []
    }
  ]
}